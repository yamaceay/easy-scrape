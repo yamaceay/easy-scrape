{
 "cells": [
  {
   "cell_type": "code",
   "execution_count": 3,
   "metadata": {},
   "outputs": [],
   "source": [
    "from driver import *\n",
    "import time"
   ]
  },
  {
   "cell_type": "code",
   "execution_count": 5,
   "metadata": {},
   "outputs": [
    {
     "name": "stdout",
     "output_type": "stream",
     "text": [
      "Google\n",
      "\n"
     ]
    }
   ],
   "source": [
    "with Driver('https://www.google.com') as driver:\n",
    "    try:\n",
    "        while True:\n",
    "            time.sleep(5)\n",
    "            print(driver.title)\n",
    "    except KeyboardInterrupt as e:\n",
    "        print(e)"
   ]
  },
  {
   "cell_type": "code",
   "execution_count": null,
   "metadata": {},
   "outputs": [],
   "source": [
    "source = None\n",
    "with Driver('https://otv.verwalt-berlin.de/ams/TerminBuchen') as driver:\n",
    "    try:\n",
    "        time.sleep(3)\n",
    "        driver.find_element(By.CSS_SELECTOR, '#mainForm > div > div > div > div > div > div > div > div > div > div.div-text-content > div.text > div:nth-child(4) > a').click()\n",
    "    except KeyboardInterrupt:\n",
    "        print(\"Fin\")\n",
    "    finally:\n",
    "        source = driver.page_source"
   ]
  }
 ],
 "metadata": {
  "kernelspec": {
   "display_name": "Python 3",
   "language": "python",
   "name": "python3"
  },
  "language_info": {
   "codemirror_mode": {
    "name": "ipython",
    "version": 3
   },
   "file_extension": ".py",
   "mimetype": "text/x-python",
   "name": "python",
   "nbconvert_exporter": "python",
   "pygments_lexer": "ipython3",
   "version": "3.12.1"
  }
 },
 "nbformat": 4,
 "nbformat_minor": 2
}
