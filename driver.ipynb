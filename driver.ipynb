{
 "cells": [
  {
   "cell_type": "code",
   "execution_count": 4,
   "metadata": {},
   "outputs": [],
   "source": [
    "from selenium import webdriver\n",
    "from selenium.webdriver.common.by import By\n",
    "from selenium.webdriver.chrome.service import Service\n",
    "from selenium.webdriver.common.keys import Keys\n",
    "import time\n",
    "\n",
    "def new_driver(url, path='/usr/local/bin/chromedriver'):\n",
    "    # Set up the WebDriver\n",
    "    service = Service(path)\n",
    "    options = webdriver.ChromeOptions()\n",
    "    driver = webdriver.Chrome(service=service, options=options)\n",
    "\n",
    "    # Open the URL\n",
    "    driver.get(url)\n",
    "\n",
    "    return driver\n",
    "\n",
    "class Driver:\n",
    "    def __init__(self, *args, **kwargs):\n",
    "        self.driver = new_driver(*args, **kwargs)\n",
    "    def __enter__(self):\n",
    "        return self.driver\n",
    "    def __exit__(self, exc_type, exc_value, traceback):\n",
    "        self.driver.quit()"
   ]
  },
  {
   "cell_type": "code",
   "execution_count": 14,
   "metadata": {},
   "outputs": [
    {
     "name": "stdout",
     "output_type": "stream",
     "text": [
      "\n"
     ]
    }
   ],
   "source": [
    "with Driver('https://www.google.com') as driver:\n",
    "    try:\n",
    "        while True:\n",
    "            time.sleep(5)\n",
    "            print(driver.title)\n",
    "    except KeyboardInterrupt as e:\n",
    "        print(e)"
   ]
  },
  {
   "cell_type": "code",
   "execution_count": 15,
   "metadata": {},
   "outputs": [],
   "source": [
    "source = None\n",
    "with Driver('https://otv.verwalt-berlin.de/ams/TerminBuchen') as driver:\n",
    "    try:\n",
    "        time.sleep(3)\n",
    "        driver.find_element(By.CSS_SELECTOR, '#mainForm > div > div > div > div > div > div > div > div > div > div.div-text-content > div.text > div:nth-child(4) > a').click()\n",
    "    except KeyboardInterrupt:\n",
    "        print(\"Fin\")\n",
    "    finally:\n",
    "        source = driver.page_source"
   ]
  }
 ],
 "metadata": {
  "kernelspec": {
   "display_name": "Python 3",
   "language": "python",
   "name": "python3"
  },
  "language_info": {
   "codemirror_mode": {
    "name": "ipython",
    "version": 3
   },
   "file_extension": ".py",
   "mimetype": "text/x-python",
   "name": "python",
   "nbconvert_exporter": "python",
   "pygments_lexer": "ipython3",
   "version": "3.12.1"
  }
 },
 "nbformat": 4,
 "nbformat_minor": 2
}
